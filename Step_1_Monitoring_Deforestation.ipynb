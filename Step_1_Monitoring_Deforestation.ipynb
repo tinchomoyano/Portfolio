{
 "cells": [
  {
   "cell_type": "markdown",
   "metadata": {},
   "source": [
    "# First Steps - Understanding the Data\n",
    "In this project I will look at deforestation and how it interacts with economic and social factors in the Gran Chaco region of South America.\n",
    "\n",
    "The Gran Chaco region covers a large swath of South America, encompasing the majority of northern Argentina, three quarters of Paraguay, and eastern Bolivia. The Chaco region varies from semi-arid forests in its western side to humid forests in its northern and eastern edges. Because of good soils and warm climate, it has become the epicenter of high rates of deforestation, as forests are being cleared mostly for soy cultivation and to some extent cattle ranching. As the agricultural frontier expands, so do the environmental and social costs. Loss of forests means less habitat for the thousands of bird, mammal, reptile and plant species that make it a home. Big agro's other dark side often includes the displacement of the native people who've inhabited the land for generations, but  lack the legal titles to the land. \n",
    "\n",
    "As time allows, I will be adding new installments of this analysis to my repository, so don't forget to check back for new material. \n",
    "\n",
    "In this first project I will be using data from [Guyra Paraguay](www.guyra.org.py), an environmental non-profit that has been monitoring deforestation of the Chaco region through satellite images since 2012. "
   ]
  },
  {
   "cell_type": "code",
   "execution_count": 2,
   "metadata": {},
   "outputs": [],
   "source": [
    "# Importing modules I'll be using in this analysis\n",
    "import pandas as pd\n",
    "import numpy as np\n",
    "import matplotlib.pyplot as plt\n",
    "from scipy import stats\n",
    "import warnings\n",
    "warnings.filterwarnings('ignore')"
   ]
  },
  {
   "cell_type": "markdown",
   "metadata": {},
   "source": [
    "#### IPython Magic Commands\n",
    "For those new to IPython, `%matplotlib` is a [magic function](http://ipython.readthedocs.io/en/stable/interactive/tutorial.html#magics-explained) of IPython.\n",
    "The output of plotting commands is displayed inline directly below the code cell that produced it, like in the rest of Jupyter Notebook. The benefit is that the plots get stored in the notebook document. You can read more [here](http://ipython.readthedocs.io/en/stable/interactive/plotting.html)."
   ]
  },
  {
   "cell_type": "code",
   "execution_count": 3,
   "metadata": {},
   "outputs": [],
   "source": [
    "%matplotlib inline"
   ]
  },
  {
   "cell_type": "markdown",
   "metadata": {},
   "source": [
    "## Importing and Formatting the Data\n",
    "One of the first things that we need to do is make sure that the data is formatted correctly, and if not, we need to tidy it up. For example, removing and renaming columns, figuring out if we have missing values and what to do with them, etc.\n",
    "\n",
    "### Reading Data Into a Dataframe\n",
    "Let's read data into a Pandas dataframe:"
   ]
  },
  {
   "cell_type": "code",
   "execution_count": 8,
   "metadata": {},
   "outputs": [],
   "source": [
    "d = pd.read_csv(\"C:/Users/user/Dropbox/Data Analysis/Portfolio/Data Sets/Deforestation/Monitoring_Data_Unprocessed.csv\", \n",
    "                encoding = \"UTF-8\")"
   ]
  },
  {
   "cell_type": "code",
   "execution_count": 9,
   "metadata": {},
   "outputs": [
    {
     "data": {
      "text/html": [
       "<div>\n",
       "<style scoped>\n",
       "    .dataframe tbody tr th:only-of-type {\n",
       "        vertical-align: middle;\n",
       "    }\n",
       "\n",
       "    .dataframe tbody tr th {\n",
       "        vertical-align: top;\n",
       "    }\n",
       "\n",
       "    .dataframe thead th {\n",
       "        text-align: right;\n",
       "    }\n",
       "</style>\n",
       "<table border=\"1\" class=\"dataframe\">\n",
       "  <thead>\n",
       "    <tr style=\"text-align: right;\">\n",
       "      <th></th>\n",
       "      <th>Year</th>\n",
       "      <th>Month</th>\n",
       "      <th>Country</th>\n",
       "      <th>Prov_Depto</th>\n",
       "      <th>Detpo_Distr_Mun</th>\n",
       "      <th>Deforestation (ha)</th>\n",
       "      <th>Unnamed: 6</th>\n",
       "      <th>Unnamed: 7</th>\n",
       "    </tr>\n",
       "  </thead>\n",
       "  <tbody>\n",
       "    <tr>\n",
       "      <th>0</th>\n",
       "      <td>2012</td>\n",
       "      <td>March</td>\n",
       "      <td>Argentina</td>\n",
       "      <td>Catamarca</td>\n",
       "      <td>La Paz</td>\n",
       "      <td>105.0</td>\n",
       "      <td>NaN</td>\n",
       "      <td>NaN</td>\n",
       "    </tr>\n",
       "    <tr>\n",
       "      <th>1</th>\n",
       "      <td>2012</td>\n",
       "      <td>March</td>\n",
       "      <td>Argentina</td>\n",
       "      <td>Catamarca</td>\n",
       "      <td>Santa Rosa</td>\n",
       "      <td>290.3</td>\n",
       "      <td>NaN</td>\n",
       "      <td>NaN</td>\n",
       "    </tr>\n",
       "    <tr>\n",
       "      <th>2</th>\n",
       "      <td>2012</td>\n",
       "      <td>March</td>\n",
       "      <td>Argentina</td>\n",
       "      <td>Chaco</td>\n",
       "      <td>12 de Octubre</td>\n",
       "      <td>9.6</td>\n",
       "      <td>NaN</td>\n",
       "      <td>NaN</td>\n",
       "    </tr>\n",
       "    <tr>\n",
       "      <th>3</th>\n",
       "      <td>2012</td>\n",
       "      <td>March</td>\n",
       "      <td>Argentina</td>\n",
       "      <td>Chaco</td>\n",
       "      <td>Almirante Brown</td>\n",
       "      <td>2004.7</td>\n",
       "      <td>NaN</td>\n",
       "      <td>NaN</td>\n",
       "    </tr>\n",
       "    <tr>\n",
       "      <th>4</th>\n",
       "      <td>2012</td>\n",
       "      <td>March</td>\n",
       "      <td>Argentina</td>\n",
       "      <td>Chaco</td>\n",
       "      <td>General Güemes</td>\n",
       "      <td>478.8</td>\n",
       "      <td>NaN</td>\n",
       "      <td>NaN</td>\n",
       "    </tr>\n",
       "  </tbody>\n",
       "</table>\n",
       "</div>"
      ],
      "text/plain": [
       "   Year  Month    Country Prov_Depto Detpo_Distr_Mun   Deforestation (ha)  \\\n",
       "0  2012  March  Argentina  Catamarca           La Paz               105.0   \n",
       "1  2012  March  Argentina  Catamarca       Santa Rosa               290.3   \n",
       "2  2012  March  Argentina      Chaco    12 de Octubre                 9.6   \n",
       "3  2012  March  Argentina      Chaco  Almirante Brown              2004.7   \n",
       "4  2012  March  Argentina      Chaco   General Güemes               478.8   \n",
       "\n",
       "   Unnamed: 6 Unnamed: 7  \n",
       "0         NaN        NaN  \n",
       "1         NaN        NaN  \n",
       "2         NaN        NaN  \n",
       "3         NaN        NaN  \n",
       "4         NaN        NaN  "
      ]
     },
     "execution_count": 9,
     "metadata": {},
     "output_type": "execute_result"
    }
   ],
   "source": [
    "# .head() gives you the first five rows of the DF. \n",
    "d.head()"
   ]
  },
  {
   "cell_type": "markdown",
   "metadata": {},
   "source": [
    "### Removing Columns\n",
    "There are two empty columns we need to delete. Pandas has an easy way with `drop`."
   ]
  },
  {
   "cell_type": "code",
   "execution_count": 16,
   "metadata": {},
   "outputs": [],
   "source": [
    "# inplace=True replaces the data in the variable d.\n",
    "d.drop(d.columns[[6, 7]], axis = 1, inplace = True)"
   ]
  },
  {
   "cell_type": "markdown",
   "metadata": {},
   "source": [
    "### Renaming Columns\n",
    "Let's rename \"Deforestation (ha)\" so we get rid of the parenthesis and spaces."
   ]
  },
  {
   "cell_type": "code",
   "execution_count": 17,
   "metadata": {},
   "outputs": [
    {
     "data": {
      "text/html": [
       "<div>\n",
       "<style scoped>\n",
       "    .dataframe tbody tr th:only-of-type {\n",
       "        vertical-align: middle;\n",
       "    }\n",
       "\n",
       "    .dataframe tbody tr th {\n",
       "        vertical-align: top;\n",
       "    }\n",
       "\n",
       "    .dataframe thead th {\n",
       "        text-align: right;\n",
       "    }\n",
       "</style>\n",
       "<table border=\"1\" class=\"dataframe\">\n",
       "  <thead>\n",
       "    <tr style=\"text-align: right;\">\n",
       "      <th></th>\n",
       "      <th>Year</th>\n",
       "      <th>Month</th>\n",
       "      <th>Country</th>\n",
       "      <th>Prov_Depto</th>\n",
       "      <th>Detpo_Distr_Mun</th>\n",
       "      <th>Deforestation_ha</th>\n",
       "    </tr>\n",
       "  </thead>\n",
       "  <tbody>\n",
       "    <tr>\n",
       "      <th>0</th>\n",
       "      <td>2012</td>\n",
       "      <td>March</td>\n",
       "      <td>Argentina</td>\n",
       "      <td>Catamarca</td>\n",
       "      <td>La Paz</td>\n",
       "      <td>105.0</td>\n",
       "    </tr>\n",
       "    <tr>\n",
       "      <th>1</th>\n",
       "      <td>2012</td>\n",
       "      <td>March</td>\n",
       "      <td>Argentina</td>\n",
       "      <td>Catamarca</td>\n",
       "      <td>Santa Rosa</td>\n",
       "      <td>290.3</td>\n",
       "    </tr>\n",
       "    <tr>\n",
       "      <th>2</th>\n",
       "      <td>2012</td>\n",
       "      <td>March</td>\n",
       "      <td>Argentina</td>\n",
       "      <td>Chaco</td>\n",
       "      <td>12 de Octubre</td>\n",
       "      <td>9.6</td>\n",
       "    </tr>\n",
       "    <tr>\n",
       "      <th>3</th>\n",
       "      <td>2012</td>\n",
       "      <td>March</td>\n",
       "      <td>Argentina</td>\n",
       "      <td>Chaco</td>\n",
       "      <td>Almirante Brown</td>\n",
       "      <td>2004.7</td>\n",
       "    </tr>\n",
       "    <tr>\n",
       "      <th>4</th>\n",
       "      <td>2012</td>\n",
       "      <td>March</td>\n",
       "      <td>Argentina</td>\n",
       "      <td>Chaco</td>\n",
       "      <td>General Güemes</td>\n",
       "      <td>478.8</td>\n",
       "    </tr>\n",
       "  </tbody>\n",
       "</table>\n",
       "</div>"
      ],
      "text/plain": [
       "   Year  Month    Country Prov_Depto Detpo_Distr_Mun   Deforestation_ha\n",
       "0  2012  March  Argentina  Catamarca           La Paz             105.0\n",
       "1  2012  March  Argentina  Catamarca       Santa Rosa             290.3\n",
       "2  2012  March  Argentina      Chaco    12 de Octubre               9.6\n",
       "3  2012  March  Argentina      Chaco  Almirante Brown            2004.7\n",
       "4  2012  March  Argentina      Chaco   General Güemes             478.8"
      ]
     },
     "execution_count": 17,
     "metadata": {},
     "output_type": "execute_result"
    }
   ],
   "source": [
    "d.rename(index=str, columns={\"Deforestation (ha)\": \"Deforestation_ha\"}, inplace=True)\n",
    "\n",
    "# Let's see what we have so far:\n",
    "d.head()"
   ]
  },
  {
   "cell_type": "markdown",
   "metadata": {},
   "source": [
    "### Changing Values in the DataFrame \n",
    "Let's make sure all months are named correctly:"
   ]
  },
  {
   "cell_type": "code",
   "execution_count": 14,
   "metadata": {},
   "outputs": [
    {
     "data": {
      "text/plain": [
       "array(['March', 'Abril', 'May', 'June', 'July', 'August', 'September',\n",
       "       'October', 'November', 'December', 'January', 'February', 'April'],\n",
       "      dtype=object)"
      ]
     },
     "execution_count": 14,
     "metadata": {},
     "output_type": "execute_result"
    }
   ],
   "source": [
    "# One method we can use is with unique()\n",
    "d.Month.unique()"
   ]
  },
  {
   "cell_type": "code",
   "execution_count": 18,
   "metadata": {},
   "outputs": [
    {
     "data": {
      "text/html": [
       "<div>\n",
       "<style scoped>\n",
       "    .dataframe tbody tr th:only-of-type {\n",
       "        vertical-align: middle;\n",
       "    }\n",
       "\n",
       "    .dataframe tbody tr th {\n",
       "        vertical-align: top;\n",
       "    }\n",
       "\n",
       "    .dataframe thead th {\n",
       "        text-align: right;\n",
       "    }\n",
       "</style>\n",
       "<table border=\"1\" class=\"dataframe\">\n",
       "  <thead>\n",
       "    <tr style=\"text-align: right;\">\n",
       "      <th></th>\n",
       "      <th>Year</th>\n",
       "      <th>Country</th>\n",
       "      <th>Prov_Depto</th>\n",
       "      <th>Detpo_Distr_Mun</th>\n",
       "      <th>Deforestation_ha</th>\n",
       "    </tr>\n",
       "    <tr>\n",
       "      <th>Month</th>\n",
       "      <th></th>\n",
       "      <th></th>\n",
       "      <th></th>\n",
       "      <th></th>\n",
       "      <th></th>\n",
       "    </tr>\n",
       "  </thead>\n",
       "  <tbody>\n",
       "    <tr>\n",
       "      <th>Abril</th>\n",
       "      <td>38</td>\n",
       "      <td>38</td>\n",
       "      <td>38</td>\n",
       "      <td>38</td>\n",
       "      <td>38</td>\n",
       "    </tr>\n",
       "    <tr>\n",
       "      <th>April</th>\n",
       "      <td>254</td>\n",
       "      <td>254</td>\n",
       "      <td>254</td>\n",
       "      <td>254</td>\n",
       "      <td>254</td>\n",
       "    </tr>\n",
       "    <tr>\n",
       "      <th>August</th>\n",
       "      <td>391</td>\n",
       "      <td>391</td>\n",
       "      <td>391</td>\n",
       "      <td>391</td>\n",
       "      <td>391</td>\n",
       "    </tr>\n",
       "    <tr>\n",
       "      <th>December</th>\n",
       "      <td>305</td>\n",
       "      <td>305</td>\n",
       "      <td>305</td>\n",
       "      <td>305</td>\n",
       "      <td>305</td>\n",
       "    </tr>\n",
       "    <tr>\n",
       "      <th>February</th>\n",
       "      <td>289</td>\n",
       "      <td>289</td>\n",
       "      <td>289</td>\n",
       "      <td>289</td>\n",
       "      <td>289</td>\n",
       "    </tr>\n",
       "    <tr>\n",
       "      <th>January</th>\n",
       "      <td>339</td>\n",
       "      <td>339</td>\n",
       "      <td>339</td>\n",
       "      <td>339</td>\n",
       "      <td>339</td>\n",
       "    </tr>\n",
       "    <tr>\n",
       "      <th>July</th>\n",
       "      <td>398</td>\n",
       "      <td>398</td>\n",
       "      <td>398</td>\n",
       "      <td>398</td>\n",
       "      <td>398</td>\n",
       "    </tr>\n",
       "    <tr>\n",
       "      <th>June</th>\n",
       "      <td>291</td>\n",
       "      <td>291</td>\n",
       "      <td>291</td>\n",
       "      <td>291</td>\n",
       "      <td>291</td>\n",
       "    </tr>\n",
       "    <tr>\n",
       "      <th>March</th>\n",
       "      <td>325</td>\n",
       "      <td>325</td>\n",
       "      <td>325</td>\n",
       "      <td>325</td>\n",
       "      <td>325</td>\n",
       "    </tr>\n",
       "    <tr>\n",
       "      <th>May</th>\n",
       "      <td>278</td>\n",
       "      <td>278</td>\n",
       "      <td>278</td>\n",
       "      <td>278</td>\n",
       "      <td>278</td>\n",
       "    </tr>\n",
       "    <tr>\n",
       "      <th>November</th>\n",
       "      <td>255</td>\n",
       "      <td>255</td>\n",
       "      <td>255</td>\n",
       "      <td>255</td>\n",
       "      <td>255</td>\n",
       "    </tr>\n",
       "    <tr>\n",
       "      <th>October</th>\n",
       "      <td>339</td>\n",
       "      <td>339</td>\n",
       "      <td>339</td>\n",
       "      <td>339</td>\n",
       "      <td>339</td>\n",
       "    </tr>\n",
       "    <tr>\n",
       "      <th>September</th>\n",
       "      <td>370</td>\n",
       "      <td>370</td>\n",
       "      <td>370</td>\n",
       "      <td>370</td>\n",
       "      <td>370</td>\n",
       "    </tr>\n",
       "  </tbody>\n",
       "</table>\n",
       "</div>"
      ],
      "text/plain": [
       "           Year  Country  Prov_Depto  Detpo_Distr_Mun   Deforestation_ha\n",
       "Month                                                                   \n",
       "Abril        38       38          38                38                38\n",
       "April       254      254         254               254               254\n",
       "August      391      391         391               391               391\n",
       "December    305      305         305               305               305\n",
       "February    289      289         289               289               289\n",
       "January     339      339         339               339               339\n",
       "July        398      398         398               398               398\n",
       "June        291      291         291               291               291\n",
       "March       325      325         325               325               325\n",
       "May         278      278         278               278               278\n",
       "November    255      255         255               255               255\n",
       "October     339      339         339               339               339\n",
       "September   370      370         370               370               370"
      ]
     },
     "execution_count": 18,
     "metadata": {},
     "output_type": "execute_result"
    }
   ],
   "source": [
    "# Another option is using groupby()\n",
    "d.groupby('Month').count()"
   ]
  },
  {
   "cell_type": "markdown",
   "metadata": {},
   "source": [
    "Apparently, we have \"April\" named also as \"Abril\". Let's change this to all \"April\":"
   ]
  },
  {
   "cell_type": "code",
   "execution_count": 19,
   "metadata": {},
   "outputs": [],
   "source": [
    "d.replace({'Month': {'Abril': 'April'}}, inplace=True)"
   ]
  },
  {
   "cell_type": "markdown",
   "metadata": {},
   "source": [
    "We can no confirm that our data looks right:"
   ]
  },
  {
   "cell_type": "code",
   "execution_count": 20,
   "metadata": {},
   "outputs": [
    {
     "data": {
      "text/html": [
       "<div>\n",
       "<style scoped>\n",
       "    .dataframe tbody tr th:only-of-type {\n",
       "        vertical-align: middle;\n",
       "    }\n",
       "\n",
       "    .dataframe tbody tr th {\n",
       "        vertical-align: top;\n",
       "    }\n",
       "\n",
       "    .dataframe thead th {\n",
       "        text-align: right;\n",
       "    }\n",
       "</style>\n",
       "<table border=\"1\" class=\"dataframe\">\n",
       "  <thead>\n",
       "    <tr style=\"text-align: right;\">\n",
       "      <th></th>\n",
       "      <th>Year</th>\n",
       "      <th>Country</th>\n",
       "      <th>Prov_Depto</th>\n",
       "      <th>Detpo_Distr_Mun</th>\n",
       "      <th>Deforestation_ha</th>\n",
       "    </tr>\n",
       "    <tr>\n",
       "      <th>Month</th>\n",
       "      <th></th>\n",
       "      <th></th>\n",
       "      <th></th>\n",
       "      <th></th>\n",
       "      <th></th>\n",
       "    </tr>\n",
       "  </thead>\n",
       "  <tbody>\n",
       "    <tr>\n",
       "      <th>April</th>\n",
       "      <td>292</td>\n",
       "      <td>292</td>\n",
       "      <td>292</td>\n",
       "      <td>292</td>\n",
       "      <td>292</td>\n",
       "    </tr>\n",
       "    <tr>\n",
       "      <th>August</th>\n",
       "      <td>391</td>\n",
       "      <td>391</td>\n",
       "      <td>391</td>\n",
       "      <td>391</td>\n",
       "      <td>391</td>\n",
       "    </tr>\n",
       "    <tr>\n",
       "      <th>December</th>\n",
       "      <td>305</td>\n",
       "      <td>305</td>\n",
       "      <td>305</td>\n",
       "      <td>305</td>\n",
       "      <td>305</td>\n",
       "    </tr>\n",
       "    <tr>\n",
       "      <th>February</th>\n",
       "      <td>289</td>\n",
       "      <td>289</td>\n",
       "      <td>289</td>\n",
       "      <td>289</td>\n",
       "      <td>289</td>\n",
       "    </tr>\n",
       "    <tr>\n",
       "      <th>January</th>\n",
       "      <td>339</td>\n",
       "      <td>339</td>\n",
       "      <td>339</td>\n",
       "      <td>339</td>\n",
       "      <td>339</td>\n",
       "    </tr>\n",
       "    <tr>\n",
       "      <th>July</th>\n",
       "      <td>398</td>\n",
       "      <td>398</td>\n",
       "      <td>398</td>\n",
       "      <td>398</td>\n",
       "      <td>398</td>\n",
       "    </tr>\n",
       "    <tr>\n",
       "      <th>June</th>\n",
       "      <td>291</td>\n",
       "      <td>291</td>\n",
       "      <td>291</td>\n",
       "      <td>291</td>\n",
       "      <td>291</td>\n",
       "    </tr>\n",
       "    <tr>\n",
       "      <th>March</th>\n",
       "      <td>325</td>\n",
       "      <td>325</td>\n",
       "      <td>325</td>\n",
       "      <td>325</td>\n",
       "      <td>325</td>\n",
       "    </tr>\n",
       "    <tr>\n",
       "      <th>May</th>\n",
       "      <td>278</td>\n",
       "      <td>278</td>\n",
       "      <td>278</td>\n",
       "      <td>278</td>\n",
       "      <td>278</td>\n",
       "    </tr>\n",
       "    <tr>\n",
       "      <th>November</th>\n",
       "      <td>255</td>\n",
       "      <td>255</td>\n",
       "      <td>255</td>\n",
       "      <td>255</td>\n",
       "      <td>255</td>\n",
       "    </tr>\n",
       "    <tr>\n",
       "      <th>October</th>\n",
       "      <td>339</td>\n",
       "      <td>339</td>\n",
       "      <td>339</td>\n",
       "      <td>339</td>\n",
       "      <td>339</td>\n",
       "    </tr>\n",
       "    <tr>\n",
       "      <th>September</th>\n",
       "      <td>370</td>\n",
       "      <td>370</td>\n",
       "      <td>370</td>\n",
       "      <td>370</td>\n",
       "      <td>370</td>\n",
       "    </tr>\n",
       "  </tbody>\n",
       "</table>\n",
       "</div>"
      ],
      "text/plain": [
       "           Year  Country  Prov_Depto  Detpo_Distr_Mun   Deforestation_ha\n",
       "Month                                                                   \n",
       "April       292      292         292               292               292\n",
       "August      391      391         391               391               391\n",
       "December    305      305         305               305               305\n",
       "February    289      289         289               289               289\n",
       "January     339      339         339               339               339\n",
       "July        398      398         398               398               398\n",
       "June        291      291         291               291               291\n",
       "March       325      325         325               325               325\n",
       "May         278      278         278               278               278\n",
       "November    255      255         255               255               255\n",
       "October     339      339         339               339               339\n",
       "September   370      370         370               370               370"
      ]
     },
     "execution_count": 20,
     "metadata": {},
     "output_type": "execute_result"
    }
   ],
   "source": [
    "d.groupby('Month').count()"
   ]
  },
  {
   "cell_type": "markdown",
   "metadata": {},
   "source": [
    "## Creating a Date Column\n",
    "To be able to work with dates and time series we need it in a format that Python (and in this case Matplotlib) can understand. We'll have to create a \"Date\" column so that we have Python `datetime` objects to work with. This will help us plot the data in `matplotlib`. What I'm going to do here is create a function that translates the month's name into a month-day number format, like '10-31'. Using the `.apply` method, we can create a new \"month_day\" column."
   ]
  },
  {
   "cell_type": "code",
   "execution_count": 22,
   "metadata": {},
   "outputs": [
    {
     "data": {
      "text/plain": [
       "'01-31'"
      ]
     },
     "execution_count": 22,
     "metadata": {},
     "output_type": "execute_result"
    }
   ],
   "source": [
    "def month_to_number (month):\n",
    "    name = {\n",
    "    \"January\": '01-31',\n",
    "    \"February\": '02-28',\n",
    "    \"March\": '03-31',\n",
    "    \"April\": '04-30',\n",
    "    \"May\": '05-31',\n",
    "    \"June\": '06-30',\n",
    "    \"July\": '07-31',\n",
    "    \"August\": '08-31',\n",
    "    \"September\": '09-30',\n",
    "    \"October\": '10-31',\n",
    "    \"November\": '11-30',\n",
    "    \"December\": '12-31'\n",
    "    }\n",
    "    return(name[month])\n",
    "\n",
    "# For example, let's run this:\n",
    "month_to_number (\"January\")"
   ]
  },
  {
   "cell_type": "code",
   "execution_count": 23,
   "metadata": {},
   "outputs": [],
   "source": [
    "# Creating a new 'month_day' column ()\n",
    "d['month_day'] = d['Month'].apply(lambda x: month_to_number(x))"
   ]
  },
  {
   "cell_type": "code",
   "execution_count": 32,
   "metadata": {},
   "outputs": [
    {
     "data": {
      "text/plain": [
       "array(['03-31', '04-30', '05-31', '06-30', '07-31', '08-31', '09-30',\n",
       "       '10-31', '11-30', '12-31', '01-31', '02-28'], dtype=object)"
      ]
     },
     "execution_count": 32,
     "metadata": {},
     "output_type": "execute_result"
    }
   ],
   "source": [
    "d.month_day.unique()"
   ]
  },
  {
   "cell_type": "markdown",
   "metadata": {},
   "source": [
    "Let's now create the \"Date\" column by adding the \"Year\" column to the \"month_day\" column:"
   ]
  },
  {
   "cell_type": "code",
   "execution_count": 34,
   "metadata": {},
   "outputs": [],
   "source": [
    "d['Date'] = d['Year'].map(str) + \"-\" + d['month_day']"
   ]
  },
  {
   "cell_type": "code",
   "execution_count": 35,
   "metadata": {},
   "outputs": [
    {
     "data": {
      "text/html": [
       "<div>\n",
       "<style scoped>\n",
       "    .dataframe tbody tr th:only-of-type {\n",
       "        vertical-align: middle;\n",
       "    }\n",
       "\n",
       "    .dataframe tbody tr th {\n",
       "        vertical-align: top;\n",
       "    }\n",
       "\n",
       "    .dataframe thead th {\n",
       "        text-align: right;\n",
       "    }\n",
       "</style>\n",
       "<table border=\"1\" class=\"dataframe\">\n",
       "  <thead>\n",
       "    <tr style=\"text-align: right;\">\n",
       "      <th></th>\n",
       "      <th>Year</th>\n",
       "      <th>Month</th>\n",
       "      <th>Country</th>\n",
       "      <th>Prov_Depto</th>\n",
       "      <th>Detpo_Distr_Mun</th>\n",
       "      <th>Deforestation_ha</th>\n",
       "      <th>month_day</th>\n",
       "      <th>Date</th>\n",
       "    </tr>\n",
       "  </thead>\n",
       "  <tbody>\n",
       "    <tr>\n",
       "      <th>0</th>\n",
       "      <td>2012</td>\n",
       "      <td>March</td>\n",
       "      <td>Argentina</td>\n",
       "      <td>Catamarca</td>\n",
       "      <td>La Paz</td>\n",
       "      <td>105.0</td>\n",
       "      <td>03-31</td>\n",
       "      <td>2012-03-31</td>\n",
       "    </tr>\n",
       "    <tr>\n",
       "      <th>1</th>\n",
       "      <td>2012</td>\n",
       "      <td>March</td>\n",
       "      <td>Argentina</td>\n",
       "      <td>Catamarca</td>\n",
       "      <td>Santa Rosa</td>\n",
       "      <td>290.3</td>\n",
       "      <td>03-31</td>\n",
       "      <td>2012-03-31</td>\n",
       "    </tr>\n",
       "    <tr>\n",
       "      <th>2</th>\n",
       "      <td>2012</td>\n",
       "      <td>March</td>\n",
       "      <td>Argentina</td>\n",
       "      <td>Chaco</td>\n",
       "      <td>12 de Octubre</td>\n",
       "      <td>9.6</td>\n",
       "      <td>03-31</td>\n",
       "      <td>2012-03-31</td>\n",
       "    </tr>\n",
       "    <tr>\n",
       "      <th>3</th>\n",
       "      <td>2012</td>\n",
       "      <td>March</td>\n",
       "      <td>Argentina</td>\n",
       "      <td>Chaco</td>\n",
       "      <td>Almirante Brown</td>\n",
       "      <td>2004.7</td>\n",
       "      <td>03-31</td>\n",
       "      <td>2012-03-31</td>\n",
       "    </tr>\n",
       "    <tr>\n",
       "      <th>4</th>\n",
       "      <td>2012</td>\n",
       "      <td>March</td>\n",
       "      <td>Argentina</td>\n",
       "      <td>Chaco</td>\n",
       "      <td>General Güemes</td>\n",
       "      <td>478.8</td>\n",
       "      <td>03-31</td>\n",
       "      <td>2012-03-31</td>\n",
       "    </tr>\n",
       "  </tbody>\n",
       "</table>\n",
       "</div>"
      ],
      "text/plain": [
       "   Year  Month    Country Prov_Depto Detpo_Distr_Mun   Deforestation_ha  \\\n",
       "0  2012  March  Argentina  Catamarca           La Paz             105.0   \n",
       "1  2012  March  Argentina  Catamarca       Santa Rosa             290.3   \n",
       "2  2012  March  Argentina      Chaco    12 de Octubre               9.6   \n",
       "3  2012  March  Argentina      Chaco  Almirante Brown            2004.7   \n",
       "4  2012  March  Argentina      Chaco   General Güemes             478.8   \n",
       "\n",
       "  month_day        Date  \n",
       "0     03-31  2012-03-31  \n",
       "1     03-31  2012-03-31  \n",
       "2     03-31  2012-03-31  \n",
       "3     03-31  2012-03-31  \n",
       "4     03-31  2012-03-31  "
      ]
     },
     "execution_count": 35,
     "metadata": {},
     "output_type": "execute_result"
    }
   ],
   "source": [
    "d.head()"
   ]
  },
  {
   "cell_type": "markdown",
   "metadata": {},
   "source": [
    "### Rearanging Columns\n",
    "Just for fun, let's rearange the column order and put the \"Date\" column at the beginning."
   ]
  },
  {
   "cell_type": "code",
   "execution_count": 40,
   "metadata": {},
   "outputs": [],
   "source": [
    "cols = d.columns.tolist()"
   ]
  },
  {
   "cell_type": "markdown",
   "metadata": {},
   "source": [
    "Let's put `[\"Date\"]` as the first column."
   ]
  },
  {
   "cell_type": "code",
   "execution_count": 41,
   "metadata": {},
   "outputs": [
    {
     "data": {
      "text/plain": [
       "['Year',\n",
       " 'Month',\n",
       " 'Country',\n",
       " 'Prov_Depto',\n",
       " 'Detpo_Distr_Mun ',\n",
       " 'Deforestation_ha',\n",
       " 'month_day',\n",
       " 'Date']"
      ]
     },
     "execution_count": 41,
     "metadata": {},
     "output_type": "execute_result"
    }
   ],
   "source": [
    "cols"
   ]
  },
  {
   "cell_type": "code",
   "execution_count": 42,
   "metadata": {},
   "outputs": [
    {
     "data": {
      "text/plain": [
       "['Date',\n",
       " 'Year',\n",
       " 'Month',\n",
       " 'month_day',\n",
       " 'Country',\n",
       " 'Prov_Depto',\n",
       " 'Detpo_Distr_Mun ',\n",
       " 'Deforestation_ha']"
      ]
     },
     "execution_count": 42,
     "metadata": {},
     "output_type": "execute_result"
    }
   ],
   "source": [
    "cols = [cols[7]] + [cols[0]] + [cols[1]] + [cols[6]] + cols[2:6]\n",
    "cols"
   ]
  },
  {
   "cell_type": "code",
   "execution_count": 43,
   "metadata": {},
   "outputs": [],
   "source": [
    "# we create the new dataframe with the column names rearanged in the preferred order\n",
    "d = d[cols]"
   ]
  },
  {
   "cell_type": "code",
   "execution_count": 44,
   "metadata": {},
   "outputs": [
    {
     "data": {
      "text/html": [
       "<div>\n",
       "<style scoped>\n",
       "    .dataframe tbody tr th:only-of-type {\n",
       "        vertical-align: middle;\n",
       "    }\n",
       "\n",
       "    .dataframe tbody tr th {\n",
       "        vertical-align: top;\n",
       "    }\n",
       "\n",
       "    .dataframe thead th {\n",
       "        text-align: right;\n",
       "    }\n",
       "</style>\n",
       "<table border=\"1\" class=\"dataframe\">\n",
       "  <thead>\n",
       "    <tr style=\"text-align: right;\">\n",
       "      <th></th>\n",
       "      <th>Date</th>\n",
       "      <th>Year</th>\n",
       "      <th>Month</th>\n",
       "      <th>month_day</th>\n",
       "      <th>Country</th>\n",
       "      <th>Prov_Depto</th>\n",
       "      <th>Detpo_Distr_Mun</th>\n",
       "      <th>Deforestation_ha</th>\n",
       "    </tr>\n",
       "  </thead>\n",
       "  <tbody>\n",
       "    <tr>\n",
       "      <th>0</th>\n",
       "      <td>2012-03-31</td>\n",
       "      <td>2012</td>\n",
       "      <td>March</td>\n",
       "      <td>03-31</td>\n",
       "      <td>Argentina</td>\n",
       "      <td>Catamarca</td>\n",
       "      <td>La Paz</td>\n",
       "      <td>105.0</td>\n",
       "    </tr>\n",
       "    <tr>\n",
       "      <th>1</th>\n",
       "      <td>2012-03-31</td>\n",
       "      <td>2012</td>\n",
       "      <td>March</td>\n",
       "      <td>03-31</td>\n",
       "      <td>Argentina</td>\n",
       "      <td>Catamarca</td>\n",
       "      <td>Santa Rosa</td>\n",
       "      <td>290.3</td>\n",
       "    </tr>\n",
       "    <tr>\n",
       "      <th>2</th>\n",
       "      <td>2012-03-31</td>\n",
       "      <td>2012</td>\n",
       "      <td>March</td>\n",
       "      <td>03-31</td>\n",
       "      <td>Argentina</td>\n",
       "      <td>Chaco</td>\n",
       "      <td>12 de Octubre</td>\n",
       "      <td>9.6</td>\n",
       "    </tr>\n",
       "    <tr>\n",
       "      <th>3</th>\n",
       "      <td>2012-03-31</td>\n",
       "      <td>2012</td>\n",
       "      <td>March</td>\n",
       "      <td>03-31</td>\n",
       "      <td>Argentina</td>\n",
       "      <td>Chaco</td>\n",
       "      <td>Almirante Brown</td>\n",
       "      <td>2004.7</td>\n",
       "    </tr>\n",
       "    <tr>\n",
       "      <th>4</th>\n",
       "      <td>2012-03-31</td>\n",
       "      <td>2012</td>\n",
       "      <td>March</td>\n",
       "      <td>03-31</td>\n",
       "      <td>Argentina</td>\n",
       "      <td>Chaco</td>\n",
       "      <td>General Güemes</td>\n",
       "      <td>478.8</td>\n",
       "    </tr>\n",
       "  </tbody>\n",
       "</table>\n",
       "</div>"
      ],
      "text/plain": [
       "         Date  Year  Month month_day    Country Prov_Depto Detpo_Distr_Mun   \\\n",
       "0  2012-03-31  2012  March     03-31  Argentina  Catamarca           La Paz   \n",
       "1  2012-03-31  2012  March     03-31  Argentina  Catamarca       Santa Rosa   \n",
       "2  2012-03-31  2012  March     03-31  Argentina      Chaco    12 de Octubre   \n",
       "3  2012-03-31  2012  March     03-31  Argentina      Chaco  Almirante Brown   \n",
       "4  2012-03-31  2012  March     03-31  Argentina      Chaco   General Güemes   \n",
       "\n",
       "   Deforestation_ha  \n",
       "0             105.0  \n",
       "1             290.3  \n",
       "2               9.6  \n",
       "3            2004.7  \n",
       "4             478.8  "
      ]
     },
     "execution_count": 44,
     "metadata": {},
     "output_type": "execute_result"
    }
   ],
   "source": [
    "d.head()"
   ]
  },
  {
   "cell_type": "markdown",
   "metadata": {},
   "source": [
    "Finally, let's create a column with the the \"Date\" column converted into `Matplotlib` dates"
   ]
  },
  {
   "cell_type": "code",
   "execution_count": 45,
   "metadata": {},
   "outputs": [],
   "source": [
    "from datetime import datetime\n",
    "\n",
    "d['Date'] = d['Date'].apply(lambda x: datetime.strptime(x, \"%Y-%m-%d\"))\n",
    "d['date_num'] = plt.matplotlib.dates.date2num(d['Date'])"
   ]
  },
  {
   "cell_type": "code",
   "execution_count": 46,
   "metadata": {},
   "outputs": [
    {
     "data": {
      "text/html": [
       "<div>\n",
       "<style scoped>\n",
       "    .dataframe tbody tr th:only-of-type {\n",
       "        vertical-align: middle;\n",
       "    }\n",
       "\n",
       "    .dataframe tbody tr th {\n",
       "        vertical-align: top;\n",
       "    }\n",
       "\n",
       "    .dataframe thead th {\n",
       "        text-align: right;\n",
       "    }\n",
       "</style>\n",
       "<table border=\"1\" class=\"dataframe\">\n",
       "  <thead>\n",
       "    <tr style=\"text-align: right;\">\n",
       "      <th></th>\n",
       "      <th>Date</th>\n",
       "      <th>Year</th>\n",
       "      <th>Month</th>\n",
       "      <th>month_day</th>\n",
       "      <th>Country</th>\n",
       "      <th>Prov_Depto</th>\n",
       "      <th>Detpo_Distr_Mun</th>\n",
       "      <th>Deforestation_ha</th>\n",
       "      <th>date_num</th>\n",
       "    </tr>\n",
       "  </thead>\n",
       "  <tbody>\n",
       "    <tr>\n",
       "      <th>0</th>\n",
       "      <td>2012-03-31</td>\n",
       "      <td>2012</td>\n",
       "      <td>March</td>\n",
       "      <td>03-31</td>\n",
       "      <td>Argentina</td>\n",
       "      <td>Catamarca</td>\n",
       "      <td>La Paz</td>\n",
       "      <td>105.0</td>\n",
       "      <td>734593.0</td>\n",
       "    </tr>\n",
       "    <tr>\n",
       "      <th>1</th>\n",
       "      <td>2012-03-31</td>\n",
       "      <td>2012</td>\n",
       "      <td>March</td>\n",
       "      <td>03-31</td>\n",
       "      <td>Argentina</td>\n",
       "      <td>Catamarca</td>\n",
       "      <td>Santa Rosa</td>\n",
       "      <td>290.3</td>\n",
       "      <td>734593.0</td>\n",
       "    </tr>\n",
       "    <tr>\n",
       "      <th>2</th>\n",
       "      <td>2012-03-31</td>\n",
       "      <td>2012</td>\n",
       "      <td>March</td>\n",
       "      <td>03-31</td>\n",
       "      <td>Argentina</td>\n",
       "      <td>Chaco</td>\n",
       "      <td>12 de Octubre</td>\n",
       "      <td>9.6</td>\n",
       "      <td>734593.0</td>\n",
       "    </tr>\n",
       "    <tr>\n",
       "      <th>3</th>\n",
       "      <td>2012-03-31</td>\n",
       "      <td>2012</td>\n",
       "      <td>March</td>\n",
       "      <td>03-31</td>\n",
       "      <td>Argentina</td>\n",
       "      <td>Chaco</td>\n",
       "      <td>Almirante Brown</td>\n",
       "      <td>2004.7</td>\n",
       "      <td>734593.0</td>\n",
       "    </tr>\n",
       "    <tr>\n",
       "      <th>4</th>\n",
       "      <td>2012-03-31</td>\n",
       "      <td>2012</td>\n",
       "      <td>March</td>\n",
       "      <td>03-31</td>\n",
       "      <td>Argentina</td>\n",
       "      <td>Chaco</td>\n",
       "      <td>General Güemes</td>\n",
       "      <td>478.8</td>\n",
       "      <td>734593.0</td>\n",
       "    </tr>\n",
       "  </tbody>\n",
       "</table>\n",
       "</div>"
      ],
      "text/plain": [
       "        Date  Year  Month month_day    Country Prov_Depto Detpo_Distr_Mun   \\\n",
       "0 2012-03-31  2012  March     03-31  Argentina  Catamarca           La Paz   \n",
       "1 2012-03-31  2012  March     03-31  Argentina  Catamarca       Santa Rosa   \n",
       "2 2012-03-31  2012  March     03-31  Argentina      Chaco    12 de Octubre   \n",
       "3 2012-03-31  2012  March     03-31  Argentina      Chaco  Almirante Brown   \n",
       "4 2012-03-31  2012  March     03-31  Argentina      Chaco   General Güemes   \n",
       "\n",
       "   Deforestation_ha  date_num  \n",
       "0             105.0  734593.0  \n",
       "1             290.3  734593.0  \n",
       "2               9.6  734593.0  \n",
       "3            2004.7  734593.0  \n",
       "4             478.8  734593.0  "
      ]
     },
     "execution_count": 46,
     "metadata": {},
     "output_type": "execute_result"
    }
   ],
   "source": [
    "d.head()"
   ]
  },
  {
   "cell_type": "markdown",
   "metadata": {},
   "source": [
    "### Saving a Dataframe to Disc\n",
    "\n",
    "Let's save this dataframe to disc using the Pandas method."
   ]
  },
  {
   "cell_type": "code",
   "execution_count": 48,
   "metadata": {},
   "outputs": [],
   "source": [
    "d.to_csv(\"C:/Users/user/Dropbox/Data Analysis/Portfolio/Data Sets/Deforestation/Monitoring_Data_First_Step.csv\")"
   ]
  },
  {
   "cell_type": "markdown",
   "metadata": {},
   "source": [
    "Our next instalment will be how to merge two dataframes together. "
   ]
  }
 ],
 "metadata": {
  "kernelspec": {
   "display_name": "Python 3",
   "language": "python",
   "name": "python3"
  },
  "language_info": {
   "codemirror_mode": {
    "name": "ipython",
    "version": 3
   },
   "file_extension": ".py",
   "mimetype": "text/x-python",
   "name": "python",
   "nbconvert_exporter": "python",
   "pygments_lexer": "ipython3",
   "version": "3.6.4"
  }
 },
 "nbformat": 4,
 "nbformat_minor": 2
}
