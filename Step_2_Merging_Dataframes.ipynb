{
 "cells": [
  {
   "cell_type": "markdown",
   "metadata": {},
   "source": [
    "## Adding New Data to Our Dataframe\n",
    "In this section we will add two months that were missing from the original data (November and December 2017). We'll import the data as csv, format all columns so they match our main dataframe and then append the new dataframe to the old dataframe.\n",
    "\n",
    "Many of the steps are similar to what we needed to do with our original dataframe. The merging is one of the final steps with the `.append` function."
   ]
  },
  {
   "cell_type": "code",
   "execution_count": 2,
   "metadata": {},
   "outputs": [],
   "source": [
    "import pandas as pd"
   ]
  },
  {
   "cell_type": "code",
   "execution_count": 80,
   "metadata": {},
   "outputs": [],
   "source": [
    "df = pd.read_csv(\"C:/Users/user/Dropbox/Data Analysis/Portfolio/Data Sets/Deforestation/Monitoring_Data_First_Step.csv\",\n",
    "                index_col = 0)\n",
    "\n",
    "# Let's import the data\n",
    "miss_data = pd.read_csv(\"C:/Users/user/Dropbox/Data Analysis/Portfolio/Data Sets/Deforestation/Nov_Dec_2017_Guyra.csv\")"
   ]
  },
  {
   "cell_type": "code",
   "execution_count": 54,
   "metadata": {},
   "outputs": [
    {
     "data": {
      "text/html": [
       "<div>\n",
       "<style scoped>\n",
       "    .dataframe tbody tr th:only-of-type {\n",
       "        vertical-align: middle;\n",
       "    }\n",
       "\n",
       "    .dataframe tbody tr th {\n",
       "        vertical-align: top;\n",
       "    }\n",
       "\n",
       "    .dataframe thead th {\n",
       "        text-align: right;\n",
       "    }\n",
       "</style>\n",
       "<table border=\"1\" class=\"dataframe\">\n",
       "  <thead>\n",
       "    <tr style=\"text-align: right;\">\n",
       "      <th></th>\n",
       "      <th>Year</th>\n",
       "      <th>mth_num</th>\n",
       "      <th>Country</th>\n",
       "      <th>Prov_Depto</th>\n",
       "      <th>Detpo_Distr_Mun</th>\n",
       "      <th>Deforestation (ha)</th>\n",
       "    </tr>\n",
       "    <tr>\n",
       "      <th>Month</th>\n",
       "      <th></th>\n",
       "      <th></th>\n",
       "      <th></th>\n",
       "      <th></th>\n",
       "      <th></th>\n",
       "      <th></th>\n",
       "    </tr>\n",
       "  </thead>\n",
       "  <tbody>\n",
       "    <tr>\n",
       "      <th>December</th>\n",
       "      <td>77</td>\n",
       "      <td>77</td>\n",
       "      <td>77</td>\n",
       "      <td>77</td>\n",
       "      <td>77</td>\n",
       "      <td>77</td>\n",
       "    </tr>\n",
       "    <tr>\n",
       "      <th>November</th>\n",
       "      <td>73</td>\n",
       "      <td>73</td>\n",
       "      <td>73</td>\n",
       "      <td>73</td>\n",
       "      <td>73</td>\n",
       "      <td>73</td>\n",
       "    </tr>\n",
       "  </tbody>\n",
       "</table>\n",
       "</div>"
      ],
      "text/plain": [
       "          Year  mth_num  Country  Prov_Depto  Detpo_Distr_Mun   \\\n",
       "Month                                                            \n",
       "December    77       77       77          77                77   \n",
       "November    73       73       73          73                73   \n",
       "\n",
       "          Deforestation (ha)  \n",
       "Month                         \n",
       "December                  77  \n",
       "November                  73  "
      ]
     },
     "execution_count": 54,
     "metadata": {},
     "output_type": "execute_result"
    }
   ],
   "source": [
    "# Let's check to see if all months are named correctly:\n",
    "miss_data.groupby(\"Month\").count()"
   ]
  },
  {
   "cell_type": "code",
   "execution_count": 81,
   "metadata": {},
   "outputs": [],
   "source": [
    "# Let's rename \"Deforestation (ha)\" column to \"Deforestation_ha\"\n",
    "miss_data.rename(index = str, columns = {\"Deforestation (ha)\": \"Deforestation_ha\"}, inplace = True)\n",
    "\n",
    "# Drop the mth_num column, since we won't use it. \n",
    "miss_data.drop(\"mth_num\", axis = 1, inplace = True)"
   ]
  },
  {
   "cell_type": "code",
   "execution_count": 82,
   "metadata": {},
   "outputs": [
    {
     "data": {
      "text/html": [
       "<div>\n",
       "<style scoped>\n",
       "    .dataframe tbody tr th:only-of-type {\n",
       "        vertical-align: middle;\n",
       "    }\n",
       "\n",
       "    .dataframe tbody tr th {\n",
       "        vertical-align: top;\n",
       "    }\n",
       "\n",
       "    .dataframe thead th {\n",
       "        text-align: right;\n",
       "    }\n",
       "</style>\n",
       "<table border=\"1\" class=\"dataframe\">\n",
       "  <thead>\n",
       "    <tr style=\"text-align: right;\">\n",
       "      <th></th>\n",
       "      <th>Year</th>\n",
       "      <th>Month</th>\n",
       "      <th>Country</th>\n",
       "      <th>Prov_Depto</th>\n",
       "      <th>Detpo_Distr_Mun</th>\n",
       "      <th>Deforestation_ha</th>\n",
       "    </tr>\n",
       "  </thead>\n",
       "  <tbody>\n",
       "    <tr>\n",
       "      <th>0</th>\n",
       "      <td>2017</td>\n",
       "      <td>November</td>\n",
       "      <td>Argentina</td>\n",
       "      <td>Catamarca</td>\n",
       "      <td>La Paz</td>\n",
       "      <td>144</td>\n",
       "    </tr>\n",
       "    <tr>\n",
       "      <th>1</th>\n",
       "      <td>2017</td>\n",
       "      <td>November</td>\n",
       "      <td>Argentina</td>\n",
       "      <td>Chaco</td>\n",
       "      <td>9 de Julio</td>\n",
       "      <td>363</td>\n",
       "    </tr>\n",
       "    <tr>\n",
       "      <th>2</th>\n",
       "      <td>2017</td>\n",
       "      <td>November</td>\n",
       "      <td>Argentina</td>\n",
       "      <td>Chaco</td>\n",
       "      <td>Almirante Brown</td>\n",
       "      <td>2548</td>\n",
       "    </tr>\n",
       "    <tr>\n",
       "      <th>3</th>\n",
       "      <td>2017</td>\n",
       "      <td>November</td>\n",
       "      <td>Argentina</td>\n",
       "      <td>Chaco</td>\n",
       "      <td>Comandante Fernández</td>\n",
       "      <td>144</td>\n",
       "    </tr>\n",
       "    <tr>\n",
       "      <th>4</th>\n",
       "      <td>2017</td>\n",
       "      <td>November</td>\n",
       "      <td>Argentina</td>\n",
       "      <td>Chaco</td>\n",
       "      <td>General Belgrano</td>\n",
       "      <td>263</td>\n",
       "    </tr>\n",
       "  </tbody>\n",
       "</table>\n",
       "</div>"
      ],
      "text/plain": [
       "   Year     Month    Country Prov_Depto      Detpo_Distr_Mun   \\\n",
       "0  2017  November  Argentina  Catamarca                La Paz   \n",
       "1  2017  November  Argentina      Chaco            9 de Julio   \n",
       "2  2017  November  Argentina      Chaco       Almirante Brown   \n",
       "3  2017  November  Argentina      Chaco  Comandante Fernández   \n",
       "4  2017  November  Argentina      Chaco      General Belgrano   \n",
       "\n",
       "   Deforestation_ha  \n",
       "0               144  \n",
       "1               363  \n",
       "2              2548  \n",
       "3               144  \n",
       "4               263  "
      ]
     },
     "execution_count": 82,
     "metadata": {},
     "output_type": "execute_result"
    }
   ],
   "source": [
    "miss_data.head()"
   ]
  },
  {
   "cell_type": "code",
   "execution_count": 22,
   "metadata": {},
   "outputs": [],
   "source": [
    "# Let's run this function to convert month names into numbers:\n",
    "def month_to_number (month):\n",
    "    name = {\n",
    "    \"January\": '01-31',\n",
    "    \"February\": '02-28',\n",
    "    \"March\": '03-31',\n",
    "    \"April\": '04-30',\n",
    "    \"May\": '05-31',\n",
    "    \"June\": '06-30',\n",
    "    \"July\": '07-31',\n",
    "    \"August\": '08-31',\n",
    "    \"September\": '09-30',\n",
    "    \"October\": '10-31',\n",
    "    \"November\": '11-30',\n",
    "    \"December\": '12-31'\n",
    "    }\n",
    "    return(name[month])"
   ]
  },
  {
   "cell_type": "code",
   "execution_count": 83,
   "metadata": {},
   "outputs": [],
   "source": [
    "# import month_to_number as month_to_number\n",
    "\n",
    "# Create a month_num column\n",
    "miss_data[\"month_day\"] = miss_data[\"Month\"].apply(lambda x: month_to_number(x)) "
   ]
  },
  {
   "cell_type": "code",
   "execution_count": 84,
   "metadata": {},
   "outputs": [],
   "source": [
    "# Create the \"Date\" column by combining \"month_num\" with \"Year\"\n",
    "miss_data[\"Date\"] = miss_data[\"Year\"].map(str) + \"-\" + miss_data[\"month_day\"]"
   ]
  },
  {
   "cell_type": "code",
   "execution_count": 85,
   "metadata": {},
   "outputs": [],
   "source": [
    "# Let's create a column with matplotlib dates\n",
    "from datetime import datetime\n",
    "import matplotlib.pyplot as plt\n",
    "\n",
    "miss_data[\"Date\"] = miss_data[\"Date\"].apply(lambda x: datetime.strptime(x, \"%Y-%m-%d\"))\n",
    "miss_data[\"date_num\"] = plt.matplotlib.dates.date2num(miss_data[\"Date\"])"
   ]
  },
  {
   "cell_type": "markdown",
   "metadata": {},
   "source": [
    "Let's check on the columns to see how we need to rearrange them:"
   ]
  },
  {
   "cell_type": "code",
   "execution_count": 103,
   "metadata": {},
   "outputs": [
    {
     "data": {
      "text/plain": [
       "['Year',\n",
       " 'Month',\n",
       " 'Country',\n",
       " 'Prov_Depto',\n",
       " 'Detpo_Distr_Mun ',\n",
       " 'Deforestation_ha',\n",
       " 'month_day',\n",
       " 'Date',\n",
       " 'date_num']"
      ]
     },
     "execution_count": 103,
     "metadata": {},
     "output_type": "execute_result"
    }
   ],
   "source": [
    "miss_data.columns.tolist()"
   ]
  },
  {
   "cell_type": "code",
   "execution_count": 87,
   "metadata": {},
   "outputs": [],
   "source": [
    "# Changing column positions\n",
    "\n",
    "cols = miss_data.columns.tolist()\n",
    "cols = cols = [cols[7]] + [cols[0]] + [cols[1]] + [cols[6]] + cols[2:6] + [cols[-1]]\n",
    "missing = miss_data[cols]"
   ]
  },
  {
   "cell_type": "markdown",
   "metadata": {},
   "source": [
    "Now we can confirm that both dataframes look the same, by double checking to see if column names are the same:"
   ]
  },
  {
   "cell_type": "code",
   "execution_count": 105,
   "metadata": {},
   "outputs": [
    {
     "data": {
      "text/plain": [
       "True"
      ]
     },
     "execution_count": 105,
     "metadata": {},
     "output_type": "execute_result"
    }
   ],
   "source": [
    "dnames = df.columns.tolist()\n",
    "missnames = missing.columns.tolist()\n",
    "dnames == missnames"
   ]
  },
  {
   "cell_type": "code",
   "execution_count": 88,
   "metadata": {},
   "outputs": [
    {
     "data": {
      "text/html": [
       "<div>\n",
       "<style scoped>\n",
       "    .dataframe tbody tr th:only-of-type {\n",
       "        vertical-align: middle;\n",
       "    }\n",
       "\n",
       "    .dataframe tbody tr th {\n",
       "        vertical-align: top;\n",
       "    }\n",
       "\n",
       "    .dataframe thead th {\n",
       "        text-align: right;\n",
       "    }\n",
       "</style>\n",
       "<table border=\"1\" class=\"dataframe\">\n",
       "  <thead>\n",
       "    <tr style=\"text-align: right;\">\n",
       "      <th></th>\n",
       "      <th>Date</th>\n",
       "      <th>Year</th>\n",
       "      <th>Month</th>\n",
       "      <th>month_day</th>\n",
       "      <th>Country</th>\n",
       "      <th>Prov_Depto</th>\n",
       "      <th>Detpo_Distr_Mun</th>\n",
       "      <th>Deforestation_ha</th>\n",
       "      <th>date_num</th>\n",
       "    </tr>\n",
       "  </thead>\n",
       "  <tbody>\n",
       "    <tr>\n",
       "      <th>0</th>\n",
       "      <td>2017-11-30</td>\n",
       "      <td>2017</td>\n",
       "      <td>November</td>\n",
       "      <td>11-30</td>\n",
       "      <td>Argentina</td>\n",
       "      <td>Catamarca</td>\n",
       "      <td>La Paz</td>\n",
       "      <td>144</td>\n",
       "      <td>736663.0</td>\n",
       "    </tr>\n",
       "    <tr>\n",
       "      <th>1</th>\n",
       "      <td>2017-11-30</td>\n",
       "      <td>2017</td>\n",
       "      <td>November</td>\n",
       "      <td>11-30</td>\n",
       "      <td>Argentina</td>\n",
       "      <td>Chaco</td>\n",
       "      <td>9 de Julio</td>\n",
       "      <td>363</td>\n",
       "      <td>736663.0</td>\n",
       "    </tr>\n",
       "    <tr>\n",
       "      <th>2</th>\n",
       "      <td>2017-11-30</td>\n",
       "      <td>2017</td>\n",
       "      <td>November</td>\n",
       "      <td>11-30</td>\n",
       "      <td>Argentina</td>\n",
       "      <td>Chaco</td>\n",
       "      <td>Almirante Brown</td>\n",
       "      <td>2548</td>\n",
       "      <td>736663.0</td>\n",
       "    </tr>\n",
       "    <tr>\n",
       "      <th>3</th>\n",
       "      <td>2017-11-30</td>\n",
       "      <td>2017</td>\n",
       "      <td>November</td>\n",
       "      <td>11-30</td>\n",
       "      <td>Argentina</td>\n",
       "      <td>Chaco</td>\n",
       "      <td>Comandante Fernández</td>\n",
       "      <td>144</td>\n",
       "      <td>736663.0</td>\n",
       "    </tr>\n",
       "    <tr>\n",
       "      <th>4</th>\n",
       "      <td>2017-11-30</td>\n",
       "      <td>2017</td>\n",
       "      <td>November</td>\n",
       "      <td>11-30</td>\n",
       "      <td>Argentina</td>\n",
       "      <td>Chaco</td>\n",
       "      <td>General Belgrano</td>\n",
       "      <td>263</td>\n",
       "      <td>736663.0</td>\n",
       "    </tr>\n",
       "  </tbody>\n",
       "</table>\n",
       "</div>"
      ],
      "text/plain": [
       "        Date  Year     Month month_day    Country Prov_Depto  \\\n",
       "0 2017-11-30  2017  November     11-30  Argentina  Catamarca   \n",
       "1 2017-11-30  2017  November     11-30  Argentina      Chaco   \n",
       "2 2017-11-30  2017  November     11-30  Argentina      Chaco   \n",
       "3 2017-11-30  2017  November     11-30  Argentina      Chaco   \n",
       "4 2017-11-30  2017  November     11-30  Argentina      Chaco   \n",
       "\n",
       "       Detpo_Distr_Mun   Deforestation_ha  date_num  \n",
       "0                La Paz               144  736663.0  \n",
       "1            9 de Julio               363  736663.0  \n",
       "2       Almirante Brown              2548  736663.0  \n",
       "3  Comandante Fernández               144  736663.0  \n",
       "4      General Belgrano               263  736663.0  "
      ]
     },
     "execution_count": 88,
     "metadata": {},
     "output_type": "execute_result"
    }
   ],
   "source": [
    "missing.head()"
   ]
  },
  {
   "cell_type": "code",
   "execution_count": 70,
   "metadata": {},
   "outputs": [
    {
     "data": {
      "text/html": [
       "<div>\n",
       "<style scoped>\n",
       "    .dataframe tbody tr th:only-of-type {\n",
       "        vertical-align: middle;\n",
       "    }\n",
       "\n",
       "    .dataframe tbody tr th {\n",
       "        vertical-align: top;\n",
       "    }\n",
       "\n",
       "    .dataframe thead th {\n",
       "        text-align: right;\n",
       "    }\n",
       "</style>\n",
       "<table border=\"1\" class=\"dataframe\">\n",
       "  <thead>\n",
       "    <tr style=\"text-align: right;\">\n",
       "      <th></th>\n",
       "      <th>Date</th>\n",
       "      <th>Year</th>\n",
       "      <th>Month</th>\n",
       "      <th>month_day</th>\n",
       "      <th>Country</th>\n",
       "      <th>Prov_Depto</th>\n",
       "      <th>Detpo_Distr_Mun</th>\n",
       "      <th>Deforestation_ha</th>\n",
       "      <th>date_num</th>\n",
       "    </tr>\n",
       "  </thead>\n",
       "  <tbody>\n",
       "    <tr>\n",
       "      <th>0</th>\n",
       "      <td>2012-03-31</td>\n",
       "      <td>2012</td>\n",
       "      <td>March</td>\n",
       "      <td>03-31</td>\n",
       "      <td>Argentina</td>\n",
       "      <td>Catamarca</td>\n",
       "      <td>La Paz</td>\n",
       "      <td>105.0</td>\n",
       "      <td>734593.0</td>\n",
       "    </tr>\n",
       "    <tr>\n",
       "      <th>1</th>\n",
       "      <td>2012-03-31</td>\n",
       "      <td>2012</td>\n",
       "      <td>March</td>\n",
       "      <td>03-31</td>\n",
       "      <td>Argentina</td>\n",
       "      <td>Catamarca</td>\n",
       "      <td>Santa Rosa</td>\n",
       "      <td>290.3</td>\n",
       "      <td>734593.0</td>\n",
       "    </tr>\n",
       "    <tr>\n",
       "      <th>2</th>\n",
       "      <td>2012-03-31</td>\n",
       "      <td>2012</td>\n",
       "      <td>March</td>\n",
       "      <td>03-31</td>\n",
       "      <td>Argentina</td>\n",
       "      <td>Chaco</td>\n",
       "      <td>12 de Octubre</td>\n",
       "      <td>9.6</td>\n",
       "      <td>734593.0</td>\n",
       "    </tr>\n",
       "    <tr>\n",
       "      <th>3</th>\n",
       "      <td>2012-03-31</td>\n",
       "      <td>2012</td>\n",
       "      <td>March</td>\n",
       "      <td>03-31</td>\n",
       "      <td>Argentina</td>\n",
       "      <td>Chaco</td>\n",
       "      <td>Almirante Brown</td>\n",
       "      <td>2004.7</td>\n",
       "      <td>734593.0</td>\n",
       "    </tr>\n",
       "    <tr>\n",
       "      <th>4</th>\n",
       "      <td>2012-03-31</td>\n",
       "      <td>2012</td>\n",
       "      <td>March</td>\n",
       "      <td>03-31</td>\n",
       "      <td>Argentina</td>\n",
       "      <td>Chaco</td>\n",
       "      <td>General Güemes</td>\n",
       "      <td>478.8</td>\n",
       "      <td>734593.0</td>\n",
       "    </tr>\n",
       "  </tbody>\n",
       "</table>\n",
       "</div>"
      ],
      "text/plain": [
       "         Date  Year  Month month_day    Country Prov_Depto Detpo_Distr_Mun   \\\n",
       "0  2012-03-31  2012  March     03-31  Argentina  Catamarca           La Paz   \n",
       "1  2012-03-31  2012  March     03-31  Argentina  Catamarca       Santa Rosa   \n",
       "2  2012-03-31  2012  March     03-31  Argentina      Chaco    12 de Octubre   \n",
       "3  2012-03-31  2012  March     03-31  Argentina      Chaco  Almirante Brown   \n",
       "4  2012-03-31  2012  March     03-31  Argentina      Chaco   General Güemes   \n",
       "\n",
       "   Deforestation_ha  date_num  \n",
       "0             105.0  734593.0  \n",
       "1             290.3  734593.0  \n",
       "2               9.6  734593.0  \n",
       "3            2004.7  734593.0  \n",
       "4             478.8  734593.0  "
      ]
     },
     "execution_count": 70,
     "metadata": {},
     "output_type": "execute_result"
    }
   ],
   "source": [
    "df.head()"
   ]
  },
  {
   "cell_type": "markdown",
   "metadata": {},
   "source": [
    "### Merging Both Dataframes\n",
    "Finally, let's merge both dataframes.\n",
    "There are several ways we could do this, but the `pd.append` method is very useful \n",
    "when you want to concatenate dataframes along the axis=0, i.e. the index."
   ]
  },
  {
   "cell_type": "code",
   "execution_count": 106,
   "metadata": {},
   "outputs": [],
   "source": [
    "new_df = df.append(missing)"
   ]
  },
  {
   "cell_type": "markdown",
   "metadata": {},
   "source": [
    "One final check confirms that the `len(new_df)` is equal to `len(df)` + `len(missing)`."
   ]
  },
  {
   "cell_type": "code",
   "execution_count": 99,
   "metadata": {},
   "outputs": [
    {
     "name": "stdout",
     "output_type": "stream",
     "text": [
      "Length of df is 3872\n",
      "Length of missing is 150\n",
      "Length of new_df should be 4022\n",
      "Length of new_df is 4022\n"
     ]
    }
   ],
   "source": [
    "len(df)\n",
    "print(\"Length of df is\", len(df))\n",
    "print (\"Length of missing is\", len(missing))\n",
    "print (\"Length of new_df should be\", len(df)+len(missing))\n",
    "print (\"Length of new_df is\", len(new_df))"
   ]
  },
  {
   "cell_type": "markdown",
   "metadata": {},
   "source": [
    "### Saving To File\n",
    "Now we can save to file:\n",
    "Let's save `new_df` as a .csv file"
   ]
  },
  {
   "cell_type": "code",
   "execution_count": 100,
   "metadata": {},
   "outputs": [],
   "source": [
    "new_df.to_csv(\"C:/Users/user/Dropbox/Data Analysis/Portfolio/Data Sets/Deforestation/Monitoring_Data_Processed.csv\")"
   ]
  }
 ],
 "metadata": {
  "kernelspec": {
   "display_name": "Python 3",
   "language": "python",
   "name": "python3"
  },
  "language_info": {
   "codemirror_mode": {
    "name": "ipython",
    "version": 3
   },
   "file_extension": ".py",
   "mimetype": "text/x-python",
   "name": "python",
   "nbconvert_exporter": "python",
   "pygments_lexer": "ipython3",
   "version": "3.6.4"
  }
 },
 "nbformat": 4,
 "nbformat_minor": 2
}
